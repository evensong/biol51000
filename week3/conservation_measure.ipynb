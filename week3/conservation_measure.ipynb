{
 "cells": [
  {
   "cell_type": "code",
   "execution_count": 58,
   "id": "3640a779",
   "metadata": {},
   "outputs": [],
   "source": [
    "from random import choice\n",
    "from itertools import combinations\n",
    "import pandas as pd"
   ]
  },
  {
   "cell_type": "code",
   "execution_count": 61,
   "id": "95a1bf5e",
   "metadata": {},
   "outputs": [],
   "source": [
    "def random_dna(n_seq=7, length=21):\n",
    "    '''Returns a list of n_seq DNA sequences of length bases'''\n",
    "    bases = ['A', 'T', 'C', 'G']\n",
    "    sequences = [] # Initialize matrix of sequences in empty list\n",
    "    \n",
    "    for i in range(n_seq): # create given number of sequences\n",
    "        sequences.append([]) # Initialize empyty mutable sequence object\n",
    "        for j in range(length):\n",
    "            sequences[i].append(choice(bases)) # Fill sequence with a random number of random bases\n",
    "        sequences[i] = ''.join(map(str, sequences[i])) # transform sequence to string\n",
    "        \n",
    "    return sequences \n",
    "    "
   ]
  },
  {
   "cell_type": "code",
   "execution_count": 77,
   "id": "b9e9d02e",
   "metadata": {},
   "outputs": [],
   "source": [
    "def detect_conservation(data, thresholds = (1, 0.6, 0.4)):\n",
    "    '''Returns a list of conservation values in the form * = perfect, : = high\n",
    "    . = moderate (thresholds can be specified by the threshold parameter) for \n",
    "    an iterable collection of aligned, equal length sequences.\n",
    "    sequences: collection of sequences to be analyzed\n",
    "    length: length of the sequences\n",
    "    thresholds: required thresholds for conservation scores'''\n",
    "    length = len(data[0])\n",
    "    conservation = []\n",
    "    \n",
    "    for i in range(length):\n",
    "        base_counts = {'A':0, 'T':0, 'C':0, 'G':0}       \n",
    "        bases = ['A', 'T', 'C', 'G']\n",
    "        for j in range(len(data)): # iterate over bases in each sequence at each position\n",
    "\n",
    "            \n",
    "            for base in bases: # increment the appropriate base count\n",
    "                if data[j][i] == base: base_counts[base] += 1\n",
    "            \n",
    "            m_f_b = max(base_counts, key=base_counts.get) # most frequent base\n",
    "            con_score = base_counts[m_f_b] / float(len(data)) # fraction to compare with thresholds\n",
    "        \n",
    "        if con_score >= thresholds[0]: conservation.append('*') # append appropriate conservation score\n",
    "        elif con_score >= thresholds[1]: conservation.append(':')\n",
    "        elif con_score >= thresholds[2]: conservation.append('.')\n",
    "        else: conservation.append(' ')\n",
    "            \n",
    "    return ''.join(map(str, conservation))\n",
    "        "
   ]
  },
  {
   "cell_type": "code",
   "execution_count": 68,
   "id": "5c506005",
   "metadata": {},
   "outputs": [],
   "source": [
    "def sub_matrix(original, others):\n",
    "    '''Returns a substitution matrix based on an original DNA sequence\n",
    "    and one or more other sequences.\n",
    "    original: 'true' sequence to compare others to\n",
    "    others: sequence(s) to compare with original--must be of same length as original\n",
    "    '''\n",
    "    subs_total = 0\n",
    "    subs_count = {'AT':0, 'AG':0, 'AC':0, 'TG':0, 'TC':0, 'GC':0}\n",
    "    a_t = ['A','T']\n",
    "    a_g = ['A', 'G']\n",
    "    a_c = ['A', 'C']\n",
    "    t_g = ['T', 'G']\n",
    "    t_c = ['T', 'C']\n",
    "    g_c = ['G', 'C']\n",
    "    \n",
    "    for i, seq in enumerate(others):\n",
    "        for j, base in enumerate(seq):\n",
    "            if others[i][j] != original[j]:\n",
    "                subs_total += 1\n",
    "                if original[j]in a_t and others[i][j] in a_t:\n",
    "                    subs_count['AT'] +=1\n",
    "                elif original[j]in a_g and others[i][j] in a_g:\n",
    "                    subs_count['AG'] +=1\n",
    "                elif original[j] in a_c and others[i][j] in a_c:\n",
    "                    subs_count['AC'] +=1\n",
    "                elif original[j] in t_g and others[i][j] in t_g:\n",
    "                    subs_count['TG'] +=1\n",
    "                elif original[j] in t_c and others[i][j] in t_c:\n",
    "                    subs_count['TC'] +=1\n",
    "                elif original[j] in g_c and others[i][j] in g_c:\n",
    "                    subs_count['GC'] +=1\n",
    "    bases = ['A', 'T', 'G', 'C']\n",
    "    matrix = pd.DataFrame(index=bases, columns=bases) # create frequency table of subs\n",
    "    matrix.at['A', 'T'] = subs_count['AT']\n",
    "    matrix.at['A', 'G'] = subs_count['AG']\n",
    "    matrix.at['A', 'C'] = subs_count['AC']\n",
    "    matrix.at['T', 'G'] = subs_count['TG']\n",
    "    matrix.at['T', 'C'] = subs_count['TC']\n",
    "    matrix.at['G', 'C'] = subs_count['GC']\n",
    "    \n",
    "    offset = max(subs_count.values()) + 1 \n",
    "    # Subtract 1 more than the most frequent substitution so all\n",
    "    # substitutions are penalized, with less frequent ones penalized more\n",
    "    \n",
    "    matrix -= offset \n",
    "    \n",
    "    return matrix"
   ]
  },
  {
   "cell_type": "code",
   "execution_count": 73,
   "id": "0b0b5005",
   "metadata": {},
   "outputs": [],
   "source": [
    "def distance_matrix(data, labels=None):\n",
    "    '''return a simple distance matrix based on number of substitutions (parsimony). \n",
    "    data: iterable collection of sequences\n",
    "    labels: sequence IDs, defaults to simple numerical identifier'''\n",
    "    \n",
    "    if labels is None: labels = tuple(range(len(data)))\n",
    "    d_matrix = pd.DataFrame(index=labels, columns=labels)\n",
    "    \n",
    "    for i, seq in enumerate(data):\n",
    "        \n",
    "        for j, seq2 in enumerate(data):\n",
    "            substitutions = 0\n",
    "            if i != j:\n",
    "                for k, base in enumerate(seq): #\n",
    "                    if base != data[j][k]: substitutions +=1\n",
    "                \n",
    "            d_matrix.at[labels[i], labels[j]] = substitutions\n",
    "        \n",
    "    return d_matrix"
   ]
  },
  {
   "cell_type": "code",
   "execution_count": 62,
   "id": "e0a86a47",
   "metadata": {},
   "outputs": [],
   "source": [
    "sequences = random_dna()"
   ]
  },
  {
   "cell_type": "code",
   "execution_count": 63,
   "id": "507144c9",
   "metadata": {},
   "outputs": [
    {
     "name": "stdout",
     "output_type": "stream",
     "text": [
      "['TTGCAGAGCCGTCCCATAAAG', 'ATAGTGGAAGTGGTGGTAGGG', 'TCATCCTAAGACTACCGGTCG', 'GGTCCCACATACTATTCTTGT', 'CCTCATCCCGTGCTAGAGTCT', 'GCTTCACGGCTTGCTCTAACG', 'AATATGACGGGATCAGGTGAA']\n"
     ]
    }
   ],
   "source": [
    "print(sequences)"
   ]
  },
  {
   "cell_type": "code",
   "execution_count": 78,
   "id": "34b769a1",
   "metadata": {},
   "outputs": [
    {
     "name": "stdout",
     "output_type": "stream",
     "text": [
      " .......... .. ......\n"
     ]
    }
   ],
   "source": [
    "print(detect_conservation(sequences))"
   ]
  },
  {
   "cell_type": "markdown",
   "id": "f44617f3",
   "metadata": {},
   "source": [
    "Given that we are using random sequences, this looks about right."
   ]
  },
  {
   "cell_type": "code",
   "execution_count": 65,
   "id": "ef73cfa6",
   "metadata": {},
   "outputs": [
    {
     "name": "stdout",
     "output_type": "stream",
     "text": [
      "     A    T    G    C\n",
      "A  NaN   -5   -1   -1\n",
      "T  NaN  NaN   -2   -2\n",
      "G  NaN  NaN  NaN   -4\n",
      "C  NaN  NaN  NaN  NaN\n"
     ]
    }
   ],
   "source": [
    "print(sub_matrix(sequences[0], sequences[1:]))"
   ]
  },
  {
   "cell_type": "markdown",
   "id": "da5900f1",
   "metadata": {},
   "source": [
    "This is a simple and probably not very fair substitution matrix. Ideally these penalties would be scaled to between 1 and 5 or something, but for a simple demonstration this should suffice."
   ]
  },
  {
   "cell_type": "code",
   "execution_count": 74,
   "id": "9d2f24a0",
   "metadata": {},
   "outputs": [
    {
     "name": "stdout",
     "output_type": "stream",
     "text": [
      "    0   1   2   3   4   5   6\n",
      "0   0  16  18  19  17  13  16\n",
      "1  16   0  16  19  16  16  15\n",
      "2  18  16   0  13  16  15  18\n",
      "3  19  19  13   0  16  17  16\n",
      "4  17  16  16  16   0  16  16\n",
      "5  13  16  15  17  16   0  18\n",
      "6  16  15  18  16  16  18   0\n"
     ]
    }
   ],
   "source": [
    "print(distance_matrix(sequences))"
   ]
  },
  {
   "cell_type": "markdown",
   "id": "e0528b15",
   "metadata": {},
   "source": [
    "Counting substitutions is a fairly simple distance metric, and requires perfect alignment to really work, but for this demonstration should be sufficient."
   ]
  }
 ],
 "metadata": {
  "kernelspec": {
   "display_name": "Python 3 (ipykernel)",
   "language": "python",
   "name": "python3"
  },
  "language_info": {
   "codemirror_mode": {
    "name": "ipython",
    "version": 3
   },
   "file_extension": ".py",
   "mimetype": "text/x-python",
   "name": "python",
   "nbconvert_exporter": "python",
   "pygments_lexer": "ipython3",
   "version": "3.7.13"
  }
 },
 "nbformat": 4,
 "nbformat_minor": 5
}
