{
 "cells": [
  {
   "cell_type": "code",
   "execution_count": 3,
   "id": "0e061e41",
   "metadata": {},
   "outputs": [],
   "source": [
    "from PIL import Image"
   ]
  },
  {
   "cell_type": "code",
   "execution_count": null,
   "id": "1040133e",
   "metadata": {},
   "outputs": [],
   "source": [
    "with Image.open('Lena.png') as im:\n",
    "    rotated = im.rotate(90) # rotates counter-clockwise, so 90 cc is 270 clockwise\n",
    "    (width, height) = (im.width // 2, im.height // 2) # ripped straight from the Pillow docs\n",
    "    resized = rotated.resize((width, height))\n",
    "    resized.save('rotnresized_Lena.png')"
   ]
  },
  {
   "cell_type": "markdown",
   "id": "8f0a5436",
   "metadata": {},
   "source": [
    "Now that we have rotated and resized our image, time for the fancier stuff."
   ]
  },
  {
   "cell_type": "code",
   "execution_count": 1,
   "id": "3ebf79d4",
   "metadata": {},
   "outputs": [],
   "source": [
    "import numpy as np"
   ]
  },
  {
   "cell_type": "code",
   "execution_count": 7,
   "id": "dd485f43",
   "metadata": {},
   "outputs": [],
   "source": [
    "with Image.open('LenaRed.png') as im:\n",
    "    redArray = np.asarray(im)\n",
    "    \n",
    "with Image.open('LenaGreen.png') as im:\n",
    "    greenArray = np.asarray(im)\n",
    "    \n",
    "with Image.open('LenaBlue.png') as im:\n",
    "    blueArray = np.asarray(im)\n",
    "    \n",
    "rgbArray = redArray + greenArray + blueArray"
   ]
  },
  {
   "cell_type": "code",
   "execution_count": 8,
   "id": "02bd875a",
   "metadata": {},
   "outputs": [],
   "source": [
    "im = Image.fromarray(rgbArray)"
   ]
  },
  {
   "cell_type": "code",
   "execution_count": 9,
   "id": "a687fdba",
   "metadata": {},
   "outputs": [],
   "source": [
    "im.save('combinedLena.png')"
   ]
  },
  {
   "cell_type": "markdown",
   "id": "6901cc6d",
   "metadata": {},
   "source": [
    "On with the show, now we use the Cells.jpg from the book's supplemental material to change contrast, sharpen, and detect edges"
   ]
  },
  {
   "cell_type": "code",
   "execution_count": 10,
   "id": "95295275",
   "metadata": {},
   "outputs": [],
   "source": [
    "from PIL import ImageEnhance"
   ]
  },
  {
   "cell_type": "code",
   "execution_count": 13,
   "id": "a8a2766e",
   "metadata": {},
   "outputs": [],
   "source": [
    "with Image.open('Cells.jpg') as im:\n",
    "    contrast = ImageEnhance.Contrast(im)\n",
    "    \n",
    "contrasted = contrast.enhance(2.0)\n",
    "sharpness = ImageEnhance.Sharpness(contrasted)\n",
    "\n",
    "sharpened = sharpness.enhance(4.0)"
   ]
  },
  {
   "cell_type": "code",
   "execution_count": 11,
   "id": "8606d3f6",
   "metadata": {},
   "outputs": [],
   "source": [
    "from PIL import ImageFilter"
   ]
  },
  {
   "cell_type": "code",
   "execution_count": 15,
   "id": "cf955211",
   "metadata": {},
   "outputs": [],
   "source": [
    "edges = sharpened.filter(ImageFilter.FIND_EDGES)"
   ]
  },
  {
   "cell_type": "code",
   "execution_count": 16,
   "id": "b9e7bcc9",
   "metadata": {},
   "outputs": [],
   "source": [
    "edges.save('cell_edges.jpg')"
   ]
  },
  {
   "cell_type": "markdown",
   "id": "4d144b84",
   "metadata": {},
   "source": [
    "Voila! Be sure to have the lena files and Cells.jpg in the current working directory, and note that this code will write the modified images as new files in the CWD rather than showing them."
   ]
  }
 ],
 "metadata": {
  "kernelspec": {
   "display_name": "Python 3 (Spyder)",
   "language": "python3",
   "name": "python3"
  },
  "language_info": {
   "codemirror_mode": {
    "name": "ipython",
    "version": 3
   },
   "file_extension": ".py",
   "mimetype": "text/x-python",
   "name": "python",
   "nbconvert_exporter": "python",
   "pygments_lexer": "ipython3",
   "version": "3.10.6"
  }
 },
 "nbformat": 4,
 "nbformat_minor": 5
}
